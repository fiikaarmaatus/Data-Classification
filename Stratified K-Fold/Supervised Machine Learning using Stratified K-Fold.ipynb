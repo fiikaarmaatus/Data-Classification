{
 "cells": [
  {
   "cell_type": "code",
   "execution_count": 1,
   "metadata": {},
   "outputs": [
    {
     "name": "stderr",
     "output_type": "stream",
     "text": [
      "C:\\Users\\User\\Anaconda3\\lib\\site-packages\\sklearn\\cross_validation.py:41: DeprecationWarning: This module was deprecated in version 0.18 in favor of the model_selection module into which all the refactored classes and functions are moved. Also note that the interface of the new CV iterators are different from that of this module. This module will be removed in 0.20.\n",
      "  \"This module will be removed in 0.20.\", DeprecationWarning)\n"
     ]
    }
   ],
   "source": [
    "import pandas as pd\n",
    "import numpy as np\n",
    "from sklearn.model_selection import train_test_split, StratifiedKFold, GridSearchCV\n",
    "from sklearn import datasets\n",
    "from sklearn.metrics import confusion_matrix\n",
    "from sklearn import cross_validation"
   ]
  },
  {
   "cell_type": "code",
   "execution_count": 2,
   "metadata": {},
   "outputs": [
    {
     "data": {
      "text/html": [
       "<div>\n",
       "<style scoped>\n",
       "    .dataframe tbody tr th:only-of-type {\n",
       "        vertical-align: middle;\n",
       "    }\n",
       "\n",
       "    .dataframe tbody tr th {\n",
       "        vertical-align: top;\n",
       "    }\n",
       "\n",
       "    .dataframe thead th {\n",
       "        text-align: right;\n",
       "    }\n",
       "</style>\n",
       "<table border=\"1\" class=\"dataframe\">\n",
       "  <thead>\n",
       "    <tr style=\"text-align: right;\">\n",
       "      <th></th>\n",
       "      <th>LOAN</th>\n",
       "      <th>MORTDUE</th>\n",
       "      <th>VALUE</th>\n",
       "      <th>REASON</th>\n",
       "      <th>JOB</th>\n",
       "      <th>YOJ</th>\n",
       "      <th>DEROG</th>\n",
       "      <th>DELINQ</th>\n",
       "      <th>CLAGE</th>\n",
       "      <th>NINQ</th>\n",
       "      <th>CLNO</th>\n",
       "      <th>DEBTINC</th>\n",
       "      <th>BAD</th>\n",
       "    </tr>\n",
       "  </thead>\n",
       "  <tbody>\n",
       "    <tr>\n",
       "      <th>0</th>\n",
       "      <td>1100</td>\n",
       "      <td>25860.00000</td>\n",
       "      <td>39025.00000</td>\n",
       "      <td>1</td>\n",
       "      <td>6</td>\n",
       "      <td>10.500000</td>\n",
       "      <td>0</td>\n",
       "      <td>0</td>\n",
       "      <td>94.366667</td>\n",
       "      <td>1.000000</td>\n",
       "      <td>9.000000</td>\n",
       "      <td>39.387645</td>\n",
       "      <td>1</td>\n",
       "    </tr>\n",
       "    <tr>\n",
       "      <th>1</th>\n",
       "      <td>1300</td>\n",
       "      <td>70053.00000</td>\n",
       "      <td>68400.00000</td>\n",
       "      <td>1</td>\n",
       "      <td>6</td>\n",
       "      <td>7.000000</td>\n",
       "      <td>0</td>\n",
       "      <td>2</td>\n",
       "      <td>121.833333</td>\n",
       "      <td>0.000000</td>\n",
       "      <td>14.000000</td>\n",
       "      <td>39.387645</td>\n",
       "      <td>1</td>\n",
       "    </tr>\n",
       "    <tr>\n",
       "      <th>2</th>\n",
       "      <td>1500</td>\n",
       "      <td>13500.00000</td>\n",
       "      <td>16700.00000</td>\n",
       "      <td>1</td>\n",
       "      <td>6</td>\n",
       "      <td>4.000000</td>\n",
       "      <td>0</td>\n",
       "      <td>0</td>\n",
       "      <td>149.466667</td>\n",
       "      <td>1.000000</td>\n",
       "      <td>10.000000</td>\n",
       "      <td>39.387645</td>\n",
       "      <td>1</td>\n",
       "    </tr>\n",
       "    <tr>\n",
       "      <th>3</th>\n",
       "      <td>1500</td>\n",
       "      <td>69460.45297</td>\n",
       "      <td>98172.84623</td>\n",
       "      <td>0</td>\n",
       "      <td>6</td>\n",
       "      <td>8.027802</td>\n",
       "      <td>0</td>\n",
       "      <td>0</td>\n",
       "      <td>150.190183</td>\n",
       "      <td>1.782765</td>\n",
       "      <td>21.211268</td>\n",
       "      <td>39.387645</td>\n",
       "      <td>1</td>\n",
       "    </tr>\n",
       "    <tr>\n",
       "      <th>4</th>\n",
       "      <td>1700</td>\n",
       "      <td>97800.00000</td>\n",
       "      <td>112000.00000</td>\n",
       "      <td>1</td>\n",
       "      <td>1</td>\n",
       "      <td>3.000000</td>\n",
       "      <td>0</td>\n",
       "      <td>0</td>\n",
       "      <td>93.333333</td>\n",
       "      <td>0.000000</td>\n",
       "      <td>14.000000</td>\n",
       "      <td>33.253129</td>\n",
       "      <td>0</td>\n",
       "    </tr>\n",
       "  </tbody>\n",
       "</table>\n",
       "</div>"
      ],
      "text/plain": [
       "   LOAN      MORTDUE         VALUE  REASON  JOB        YOJ  DEROG  DELINQ  \\\n",
       "0  1100  25860.00000   39025.00000       1    6  10.500000      0       0   \n",
       "1  1300  70053.00000   68400.00000       1    6   7.000000      0       2   \n",
       "2  1500  13500.00000   16700.00000       1    6   4.000000      0       0   \n",
       "3  1500  69460.45297   98172.84623       0    6   8.027802      0       0   \n",
       "4  1700  97800.00000  112000.00000       1    1   3.000000      0       0   \n",
       "\n",
       "        CLAGE      NINQ       CLNO    DEBTINC  BAD  \n",
       "0   94.366667  1.000000   9.000000  39.387645    1  \n",
       "1  121.833333  0.000000  14.000000  39.387645    1  \n",
       "2  149.466667  1.000000  10.000000  39.387645    1  \n",
       "3  150.190183  1.782765  21.211268  39.387645    1  \n",
       "4   93.333333  0.000000  14.000000  33.253129    0  "
      ]
     },
     "execution_count": 2,
     "metadata": {},
     "output_type": "execute_result"
    }
   ],
   "source": [
    "data = pd.read_csv(\"D:\\MATERI\\SEMESTER 7\\Data Mining\\Tugas 2\\hmeq2_4.csv\")\n",
    "data.head()"
   ]
  },
  {
   "cell_type": "code",
   "execution_count": 3,
   "metadata": {},
   "outputs": [],
   "source": [
    "y = data[\"BAD\"].values\n",
    "X = data.drop(columns=\"BAD\").values\n",
    "#X=data.iloc[0:,1:20]"
   ]
  },
  {
   "cell_type": "markdown",
   "metadata": {},
   "source": [
    "# SVM rbf Method"
   ]
  },
  {
   "cell_type": "code",
   "execution_count": 15,
   "metadata": {},
   "outputs": [],
   "source": [
    "from sklearn import svm\n",
    "from sklearn.svm import SVC"
   ]
  },
  {
   "cell_type": "code",
   "execution_count": 16,
   "metadata": {
    "scrolled": true
   },
   "outputs": [
    {
     "name": "stdout",
     "output_type": "stream",
     "text": [
      "   Akurasi (%)  Spesitifitas (%)  Sensitivitas (%)  F1 Score (%)\n",
      "0    83.418628             100.0               0.0           0.0\n",
      "1    83.418628             100.0               0.0           0.0\n",
      "2    83.401639             100.0               0.0           0.0\n",
      "3    83.401639             100.0               0.0           0.0\n",
      "4    83.401639             100.0               0.0           0.0\n",
      "\n",
      "Rata-Rata Akurasi = 83.40843498833833 %\n",
      "Rata-Rata Spesitifitas = 100.0 %\n",
      "Rata-Rata Sensitivitas = 0.0 %\n",
      "Rata-Rata F1 Score = 0.0 %\n"
     ]
    }
   ],
   "source": [
    "svm = svm.SVC(class_weight=None, C=1, gamma=0.1, kernel=\"rbf\", random_state=100)\n",
    "#Setup arrays to store training and test accuracies\n",
    "n=5 #jumlah fold\n",
    "from sklearn.model_selection import StratifiedKFold\n",
    "kf=StratifiedKFold(n_splits=n, random_state=None)\n",
    "\n",
    "cm=[]\n",
    "total=[]\n",
    "ac=[]\n",
    "se=[]\n",
    "sp=[]\n",
    "f1=[]\n",
    "\n",
    "for train_index, test_index in kf.split(X,y):\n",
    "    X_train, X_test = X[train_index], X[test_index]\n",
    "    y_train, y_test = y[train_index], y[test_index]\n",
    "    svm.fit(X_train, y_train)\n",
    "    y_pred = svm.predict(X_test)\n",
    "    cm.append((confusion_matrix(y_test, y_pred)).astype(float))\n",
    "for j in range (n):\n",
    "    total.append(sum(sum(cm[j])))\n",
    "    ac.append(((cm[j][0,0]+cm[j][1,1])/total[j])*100)\n",
    "    se.append((cm[j][0,0]/(cm[j][0,0]+cm[j][0,1]))*100)\n",
    "    sp.append((cm[j][1,1]/(cm[j][1,0]+cm[j][1,1]))*100)\n",
    "    f1.append((2*(cm[j][1,1]/(cm[j][1,0]+cm[j][1,1]))\n",
    "               *(cm[j][0,0]/(cm[j][0,0]+cm[j][0,1])))\n",
    "              /((cm[j][1,1]/(cm[j][1,0]+cm[j][1,1]))\n",
    "                +(cm[j][0,0]/(cm[j][0,0]+cm[j][0,1])))*100)\n",
    "\n",
    "#performansi masing masing fold->csv\n",
    "df_k=pd.DataFrame()\n",
    "test=dict()\n",
    "for j in range (4):\n",
    "    test[j]=[]\n",
    "for i in range (n):\n",
    "    test[0].append(ac[i])\n",
    "    test[1].append(se[i])\n",
    "    test[2].append(sp[i])\n",
    "    test[3].append(f1[i])\n",
    "for i in range (4):\n",
    "    df_k=pd.concat([df_k,pd.DataFrame(test[i])],axis=1)\n",
    "df_k.columns=['Akurasi (%)','Spesitifitas (%)','Sensitivitas (%)', 'F1 Score (%)']\n",
    "print(df_k)\n",
    "print('')\n",
    "print('Rata-Rata Akurasi =',np.mean(df_k[\"Akurasi (%)\"]),'%')\n",
    "print('Rata-Rata Spesitifitas =',np.mean(df_k[\"Spesitifitas (%)\"]),'%')\n",
    "print('Rata-Rata Sensitivitas =',np.mean(df_k[\"Sensitivitas (%)\"]),'%')\n",
    "print('Rata-Rata F1 Score =',np.mean(df_k[\"F1 Score (%)\"]),'%')"
   ]
  },
  {
   "cell_type": "markdown",
   "metadata": {},
   "source": [
    "# SVM linear Method"
   ]
  },
  {
   "cell_type": "code",
   "execution_count": 4,
   "metadata": {
    "scrolled": true
   },
   "outputs": [
    {
     "name": "stdout",
     "output_type": "stream",
     "text": [
      "   Akurasi (%)  Spesitifitas (%)  Sensitivitas (%)  F1 Score (%)\n",
      "0    84.544524         88.588957         64.197531     74.446273\n",
      "1    85.772774         97.914110         24.691358     39.437594\n",
      "2    84.118852         99.385749          7.407407     13.787227\n",
      "3    82.786885         97.420147          9.259259     16.911200\n",
      "4    83.401639        100.000000          0.000000      0.000000\n",
      "\n",
      "Rata-Rata Akurasi = 84.12493497994868 %\n",
      "Rata-Rata Spesitifitas = 96.66179285811188 %\n",
      "Rata-Rata Sensitivitas = 21.111111111111107 %\n",
      "Rata-Rata F1 Score = 28.91645886576045 %\n"
     ]
    }
   ],
   "source": [
    "from sklearn import svm\n",
    "from sklearn.svm import SVC\n",
    "\n",
    "svm1 = svm.SVC(class_weight=None, C=1, gamma=0.1, kernel=\"linear\", random_state=100)\n",
    "#Setup arrays to store training and test accuracies\n",
    "n=5 #jumlah fold\n",
    "from sklearn.model_selection import StratifiedKFold\n",
    "kf1=StratifiedKFold(n_splits=n, random_state=None)\n",
    "\n",
    "cm=[]\n",
    "total=[]\n",
    "ac=[]\n",
    "se=[]\n",
    "sp=[]\n",
    "f1=[]\n",
    "\n",
    "for train_index, test_index in kf1.split(X,y):\n",
    "    X_train, X_test = X[train_index], X[test_index]\n",
    "    y_train, y_test = y[train_index], y[test_index]\n",
    "    svm1.fit(X_train, y_train)\n",
    "    y_pred1 = svm1.predict(X_test)\n",
    "    cm.append((confusion_matrix(y_test, y_pred1)).astype(float))\n",
    "for j in range (n):\n",
    "    total.append(sum(sum(cm[j])))\n",
    "    ac.append(((cm[j][0,0]+cm[j][1,1])/total[j])*100)\n",
    "    se.append((cm[j][0,0]/(cm[j][0,0]+cm[j][0,1]))*100)\n",
    "    sp.append((cm[j][1,1]/(cm[j][1,0]+cm[j][1,1]))*100)\n",
    "    f1.append((2*(cm[j][1,1]/(cm[j][1,0]+cm[j][1,1]))\n",
    "               *(cm[j][0,0]/(cm[j][0,0]+cm[j][0,1])))\n",
    "              /((cm[j][1,1]/(cm[j][1,0]+cm[j][1,1]))\n",
    "                +(cm[j][0,0]/(cm[j][0,0]+cm[j][0,1])))*100)\n",
    "\n",
    "#performansi masing masing fold->csv\n",
    "df_k1=pd.DataFrame()\n",
    "test=dict()\n",
    "for j in range (4):\n",
    "    test[j]=[]\n",
    "for i in range (n):\n",
    "    test[0].append(ac[i])\n",
    "    test[1].append(se[i])\n",
    "    test[2].append(sp[i])\n",
    "    test[3].append(f1[i])\n",
    "for i in range (4):\n",
    "    df_k1=pd.concat([df_k1,pd.DataFrame(test[i])],axis=1)\n",
    "df_k1.columns=['Akurasi (%)','Spesitifitas (%)','Sensitivitas (%)', 'F1 Score (%)']\n",
    "print(df_k1)\n",
    "print('')\n",
    "print('Rata-Rata Akurasi =',np.mean(df_k1[\"Akurasi (%)\"]),'%')\n",
    "print('Rata-Rata Spesitifitas =',np.mean(df_k1[\"Spesitifitas (%)\"]),'%')\n",
    "print('Rata-Rata Sensitivitas =',np.mean(df_k1[\"Sensitivitas (%)\"]),'%')\n",
    "print('Rata-Rata F1 Score =',np.mean(df_k1[\"F1 Score (%)\"]),'%')"
   ]
  },
  {
   "cell_type": "markdown",
   "metadata": {},
   "source": [
    "# Decision Tree Method"
   ]
  },
  {
   "cell_type": "code",
   "execution_count": 21,
   "metadata": {},
   "outputs": [],
   "source": [
    "from sklearn import tree\n",
    "clf = tree.DecisionTreeClassifier(random_state=5)"
   ]
  },
  {
   "cell_type": "code",
   "execution_count": 24,
   "metadata": {},
   "outputs": [
    {
     "name": "stdout",
     "output_type": "stream",
     "text": [
      "   Akurasi (%)  Spesitifitas (%)  Sensitivitas (%)  F1 Score (%)\n",
      "0    17.400205          0.981595        100.000000      1.944107\n",
      "1    65.301945         62.576687         79.012346     69.840591\n",
      "2    55.942623         51.719902         77.160494     61.929251\n",
      "3    77.766393         77.518428         79.012346     78.258258\n",
      "4    88.627049         90.786241         77.777778     83.780063\n",
      "\n",
      "Rata-Rata Akurasi = 61.007643002164535 %\n",
      "Rata-Rata Spesitifitas = 56.71657044663179 %\n",
      "Rata-Rata Sensitivitas = 82.5925925925926 %\n",
      "Rata-Rata F1 Score = 59.150453788193055 %\n"
     ]
    }
   ],
   "source": [
    "#Setup arrays to store training and test accuracies\n",
    "n=5 #jumlah fold\n",
    "from sklearn.model_selection import StratifiedKFold\n",
    "kf3=StratifiedKFold(n_splits=n, random_state=None)\n",
    "\n",
    "cm=[]\n",
    "total=[]\n",
    "ac=[]\n",
    "se=[]\n",
    "sp=[]\n",
    "f1=[]\n",
    "\n",
    "for train_index, test_index in kf3.split(X,y):\n",
    "    X_train, X_test = X[train_index], X[test_index]\n",
    "    y_train, y_test = y[train_index], y[test_index]\n",
    "    clf.fit(X_train, y_train)\n",
    "    y_pred3 = clf.predict(X_test)\n",
    "    cm.append((confusion_matrix(y_test, y_pred3)).astype(float))\n",
    "for j in range (n):\n",
    "    total.append(sum(sum(cm[j])))\n",
    "    ac.append(((cm[j][0,0]+cm[j][1,1])/total[j])*100)\n",
    "    se.append((cm[j][0,0]/(cm[j][0,0]+cm[j][0,1]))*100)\n",
    "    sp.append((cm[j][1,1]/(cm[j][1,0]+cm[j][1,1]))*100)\n",
    "    f1.append((2*(cm[j][1,1]/(cm[j][1,0]+cm[j][1,1]))\n",
    "               *(cm[j][0,0]/(cm[j][0,0]+cm[j][0,1])))\n",
    "              /((cm[j][1,1]/(cm[j][1,0]+cm[j][1,1]))\n",
    "                +(cm[j][0,0]/(cm[j][0,0]+cm[j][0,1])))*100)\n",
    "\n",
    "#performansi masing masing fold->csv\n",
    "df_k3=pd.DataFrame()\n",
    "test=dict()\n",
    "for j in range (4):\n",
    "    test[j]=[]\n",
    "for i in range (n):\n",
    "    test[0].append(ac[i])\n",
    "    test[1].append(se[i])\n",
    "    test[2].append(sp[i])\n",
    "    test[3].append(f1[i])\n",
    "for i in range (4):\n",
    "    df_k3=pd.concat([df_k3,pd.DataFrame(test[i])],axis=1)\n",
    "df_k3.columns=['Akurasi (%)','Spesitifitas (%)','Sensitivitas (%)', 'F1 Score (%)']\n",
    "print(df_k3)\n",
    "print('')\n",
    "print('Rata-Rata Akurasi =',np.mean(df_k3[\"Akurasi (%)\"]),'%')\n",
    "print('Rata-Rata Spesitifitas =',np.mean(df_k3[\"Spesitifitas (%)\"]),'%')\n",
    "print('Rata-Rata Sensitivitas =',np.mean(df_k3[\"Sensitivitas (%)\"]),'%')\n",
    "print('Rata-Rata F1 Score =',np.mean(df_k3[\"F1 Score (%)\"]),'%')"
   ]
  },
  {
   "cell_type": "code",
   "execution_count": null,
   "metadata": {},
   "outputs": [],
   "source": []
  }
 ],
 "metadata": {
  "kernelspec": {
   "display_name": "Python 3",
   "language": "python",
   "name": "python3"
  },
  "language_info": {
   "codemirror_mode": {
    "name": "ipython",
    "version": 3
   },
   "file_extension": ".py",
   "mimetype": "text/x-python",
   "name": "python",
   "nbconvert_exporter": "python",
   "pygments_lexer": "ipython3",
   "version": "3.6.4"
  }
 },
 "nbformat": 4,
 "nbformat_minor": 2
}
