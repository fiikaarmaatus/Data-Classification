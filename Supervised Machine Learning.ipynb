{
 "cells": [
  {
   "cell_type": "markdown",
   "metadata": {},
   "source": [
    "# SUPERVISED MACHINE LEARNING"
   ]
  },
  {
   "cell_type": "code",
   "execution_count": 1,
   "metadata": {},
   "outputs": [],
   "source": [
    "import numpy as np\n",
    "import pandas as pd\n",
    "from sklearn.model_selection import train_test_split\n",
    "from sklearn import datasets\n",
    "from sklearn.metrics import confusion_matrix\n",
    "from sklearn.naive_bayes import GaussianNB\n",
    "from sklearn import tree\n",
    "from sklearn.tree import DecisionTreeClassifier\n",
    "from sklearn import svm\n",
    "from sklearn.svm import SVC"
   ]
  },
  {
   "cell_type": "code",
   "execution_count": 2,
   "metadata": {},
   "outputs": [],
   "source": [
    "data=pd.read_excel(\"data.xlsx\")"
   ]
  },
  {
   "cell_type": "code",
   "execution_count": 3,
   "metadata": {},
   "outputs": [],
   "source": [
    "X=data[[\"department\",\"age\",\"salary\"]].values\n",
    "y=data[\"status\"].values\n",
    "n=5"
   ]
  },
  {
   "cell_type": "markdown",
   "metadata": {},
   "source": [
    "## Naive Bayes Method"
   ]
  },
  {
   "cell_type": "code",
   "execution_count": 4,
   "metadata": {},
   "outputs": [
    {
     "name": "stdout",
     "output_type": "stream",
     "text": [
      "   Akurasi (%)  Spesitifitas (%)  Sensitivitas (%)\n",
      "0    96.363636        100.000000         94.871795\n",
      "1   100.000000        100.000000        100.000000\n",
      "2    96.363636        100.000000         93.939394\n",
      "3    72.727273         28.571429        100.000000\n",
      "4    98.181818        100.000000         96.774194\n",
      "\n",
      "Rata-Rata Akurasi = 92.72727272727273 %\n",
      "Rata-Rata Spesitifitas = 85.71428571428571 %\n",
      "Rata-Rata Sensitivitas = 97.11707647191517 %\n"
     ]
    }
   ],
   "source": [
    "#Setup arrays to store training and test accuracies using Naive Bayes Method\n",
    "gnb = GaussianNB()\n",
    "\n",
    "cm=[]\n",
    "total=[]\n",
    "ac=[]\n",
    "se=[]\n",
    "sp=[]\n",
    "\n",
    "for j in range (n):\n",
    "    X_train, X_test, y_train, y_test = train_test_split(X, y, test_size=0.33, random_state=j)\n",
    "    kf=X_train, X_test, y_train, y_test\n",
    "    gnb.fit(X_train, y_train)\n",
    "    y_pred = gnb.predict(X_test)\n",
    "    cm.append((confusion_matrix(y_test, y_pred)).astype(float))\n",
    "    total.append(sum(sum(cm[j])))\n",
    "    ac.append(((cm[j][0,0]+cm[j][1,1])/total[j])*100)\n",
    "    se.append((cm[j][0,0]/(cm[j][0,0]+cm[j][0,1]))*100)\n",
    "    sp.append((cm[j][1,1]/(cm[j][1,0]+cm[j][1,1]))*100)\n",
    "akurasi=np.mean(ac)\n",
    "spesifisiti=np.mean(se)\n",
    "sensitiviti=np.mean(sp)\n",
    "#performansi masing masing iterasi\n",
    "df_k1=pd.DataFrame()\n",
    "test=dict()\n",
    "for j in range (3):\n",
    "    test[j]=[]\n",
    "for i in range (n):\n",
    "    test[0].append(ac[i])\n",
    "    test[1].append(se[i])\n",
    "    test[2].append(sp[i])\n",
    "for i in range (3):\n",
    "    df_k1=pd.concat([df_k1,pd.DataFrame(test[i])],axis=1)\n",
    "df_k1.columns=['Akurasi (%)','Spesitifitas (%)','Sensitivitas (%)']\n",
    "print(df_k1)\n",
    "print('')\n",
    "print('Rata-Rata Akurasi =',np.mean(df_k1[\"Akurasi (%)\"]),'%')\n",
    "print('Rata-Rata Spesitifitas =',np.mean(df_k1[\"Spesitifitas (%)\"]),'%')\n",
    "print('Rata-Rata Sensitivitas =',np.mean(df_k1[\"Sensitivitas (%)\"]),'%')"
   ]
  },
  {
   "cell_type": "markdown",
   "metadata": {},
   "source": [
    "## Decision Tree Method"
   ]
  },
  {
   "cell_type": "code",
   "execution_count": 5,
   "metadata": {},
   "outputs": [
    {
     "name": "stdout",
     "output_type": "stream",
     "text": [
      "   Akurasi (%)  Spesitifitas (%)  Sensitivitas (%)\n",
      "0        100.0             100.0             100.0\n",
      "1        100.0             100.0             100.0\n",
      "2        100.0             100.0             100.0\n",
      "3        100.0             100.0             100.0\n",
      "4        100.0             100.0             100.0\n",
      "\n",
      "Rata-Rata Akurasi = 100.0 %\n",
      "Rata-Rata Spesitifitas = 100.0 %\n",
      "Rata-Rata Sensitivitas = 100.0 %\n"
     ]
    }
   ],
   "source": [
    "#Setup arrays to store training and test accuracies using Decision Tree Method\n",
    "clf=tree.DecisionTreeClassifier()\n",
    "\n",
    "cm=[]\n",
    "total=[]\n",
    "ac=[]\n",
    "se=[]\n",
    "sp=[]\n",
    "\n",
    "for j in range (n):\n",
    "    X_train, X_test, y_train, y_test = train_test_split(X, y, test_size=0.33, random_state=j)\n",
    "    kf=X_train, X_test, y_train, y_test\n",
    "    clf.fit(X_train, y_train)\n",
    "    y_pred = clf.predict(X_test)\n",
    "    cm.append((confusion_matrix(y_test, y_pred)).astype(float))\n",
    "    total.append(sum(sum(cm[j])))\n",
    "    ac.append(((cm[j][0,0]+cm[j][1,1])/total[j])*100)\n",
    "    se.append((cm[j][0,0]/(cm[j][0,0]+cm[j][0,1]))*100)\n",
    "    sp.append((cm[j][1,1]/(cm[j][1,0]+cm[j][1,1]))*100)\n",
    "akurasi=np.mean(ac)\n",
    "spesifisiti=np.mean(se)\n",
    "sensitiviti=np.mean(sp)\n",
    "#performansi masing masing iterasi\n",
    "df_k2=pd.DataFrame()\n",
    "test=dict()\n",
    "for j in range (3):\n",
    "    test[j]=[]\n",
    "for i in range (n):\n",
    "    test[0].append(ac[i])\n",
    "    test[1].append(se[i])\n",
    "    test[2].append(sp[i])\n",
    "for i in range (3):\n",
    "    df_k2=pd.concat([df_k2,pd.DataFrame(test[i])],axis=1)\n",
    "df_k2.columns=['Akurasi (%)','Spesitifitas (%)','Sensitivitas (%)']\n",
    "print(df_k2)\n",
    "print('')\n",
    "print('Rata-Rata Akurasi =',np.mean(df_k2[\"Akurasi (%)\"]),'%')\n",
    "print('Rata-Rata Spesitifitas =',np.mean(df_k2[\"Spesitifitas (%)\"]),'%')\n",
    "print('Rata-Rata Sensitivitas =',np.mean(df_k2[\"Sensitivitas (%)\"]),'%')"
   ]
  },
  {
   "cell_type": "markdown",
   "metadata": {},
   "source": [
    "## SVM Method"
   ]
  },
  {
   "cell_type": "code",
   "execution_count": 6,
   "metadata": {},
   "outputs": [
    {
     "name": "stdout",
     "output_type": "stream",
     "text": [
      "   Akurasi (%)  Spesitifitas (%)  Sensitivitas (%)\n",
      "0        100.0             100.0             100.0\n",
      "1        100.0             100.0             100.0\n",
      "2        100.0             100.0             100.0\n",
      "3        100.0             100.0             100.0\n",
      "4        100.0             100.0             100.0\n",
      "\n",
      "Rata-Rata Akurasi = 100.0 %\n",
      "Rata-Rata Spesitifitas = 100.0 %\n",
      "Rata-Rata Sensitivitas = 100.0 %\n"
     ]
    }
   ],
   "source": [
    "#Setup arrays to store training and test accuracies using SVM Method\n",
    "svm = svm.SVC(class_weight=None, C=1, gamma=0.1, kernel=\"rbf\", random_state=100)\n",
    "\n",
    "cm=[]\n",
    "total=[]\n",
    "ac=[]\n",
    "se=[]\n",
    "sp=[]\n",
    "\n",
    "for j in range (n):\n",
    "    X_train, X_test, y_train, y_test = train_test_split(X, y, test_size=0.33, random_state=j)\n",
    "    kf=X_train, X_test, y_train, y_test\n",
    "    svm.fit(X_train, y_train)\n",
    "    y_pred = svm.predict(X_test)\n",
    "    cm.append((confusion_matrix(y_test, y_pred)).astype(float))\n",
    "    total.append(sum(sum(cm[j])))\n",
    "    ac.append(((cm[j][0,0]+cm[j][1,1])/total[j])*100)\n",
    "    se.append((cm[j][0,0]/(cm[j][0,0]+cm[j][0,1]))*100)\n",
    "    sp.append((cm[j][1,1]/(cm[j][1,0]+cm[j][1,1]))*100)\n",
    "akurasi=np.mean(ac)\n",
    "spesifisiti=np.mean(se)\n",
    "sensitiviti=np.mean(sp)\n",
    "#performansi masing masing iterasi\n",
    "df_k3=pd.DataFrame()\n",
    "test=dict()\n",
    "for j in range (3):\n",
    "    test[j]=[]\n",
    "for i in range (n):\n",
    "    test[0].append(ac[i])\n",
    "    test[1].append(se[i])\n",
    "    test[2].append(sp[i])\n",
    "for i in range (3):\n",
    "    df_k3=pd.concat([df_k3,pd.DataFrame(test[i])],axis=1)\n",
    "df_k3.columns=['Akurasi (%)','Spesitifitas (%)','Sensitivitas (%)']\n",
    "print(df_k3)\n",
    "print('')\n",
    "print('Rata-Rata Akurasi =',np.mean(df_k3[\"Akurasi (%)\"]),'%')\n",
    "print('Rata-Rata Spesitifitas =',np.mean(df_k3[\"Spesitifitas (%)\"]),'%')\n",
    "print('Rata-Rata Sensitivitas =',np.mean(df_k3[\"Sensitivitas (%)\"]),'%')"
   ]
  },
  {
   "cell_type": "markdown",
   "metadata": {},
   "source": [
    "### Kesimpulan : Berdasarkan hasil yang diperoleh dari ketiga metode tersebut, nilai akurasi terbaik dalam mengelompokkan status pekerja menurut department, age, dan salary didapatkan dengan menggunakan metode Decision Tree dan Naive Bayes dengan nilai akurasi sebesar 100%"
   ]
  },
  {
   "cell_type": "code",
   "execution_count": null,
   "metadata": {},
   "outputs": [],
   "source": []
  }
 ],
 "metadata": {
  "kernelspec": {
   "display_name": "Python 3",
   "language": "python",
   "name": "python3"
  },
  "language_info": {
   "codemirror_mode": {
    "name": "ipython",
    "version": 3
   },
   "file_extension": ".py",
   "mimetype": "text/x-python",
   "name": "python",
   "nbconvert_exporter": "python",
   "pygments_lexer": "ipython3",
   "version": "3.6.4"
  }
 },
 "nbformat": 4,
 "nbformat_minor": 2
}
